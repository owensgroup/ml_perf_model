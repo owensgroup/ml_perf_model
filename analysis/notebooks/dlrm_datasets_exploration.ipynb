{
 "cells": [
  {
   "cell_type": "code",
   "execution_count": null,
   "metadata": {},
   "outputs": [],
   "source": [
    "from __future__ import absolute_import, division, print_function, unicode_literals\n",
    "from IPython.display import display, HTML\n",
    "from collections import defaultdict\n",
    "import numpy as np\n",
    "import matplotlib.pyplot as plt\n",
    "import pandas as pd\n",
    "import json, sys, os\n",
    "\n",
    "plt.rcParams['figure.figsize'] = [10, 5]\n",
    "plt.rcParams['figure.max_open_warning'] = 50\n",
    "display(HTML(\"<style>.container { width:100% !important; }</style>\"))\n",
    "PM_HOME = os.getcwd() + \"/../../\""
   ]
  },
  {
   "cell_type": "code",
   "execution_count": null,
   "metadata": {},
   "outputs": [],
   "source": [
    "DATASET_ROOT = \"/nvme/deep-learning/dlrm_datasets/embedding_bag\""
   ]
  },
  {
   "cell_type": "code",
   "execution_count": null,
   "metadata": {},
   "outputs": [],
   "source": [
    "# Global reuse_factor of all tables all batches\n",
    "locality_file_path = \"{}/2021/locality_stats.txt\".format(DATASET_ROOT)\n",
    "with open(locality_file_path) as f:\n",
    "    found = False\n",
    "    for line in f.readlines():\n",
    "        if line.startswith('['):\n",
    "            if not found:\n",
    "                bins = [int(l) for l in line.lstrip('[').rstrip(']\\n').split(', ')]\n",
    "                bins\n",
    "                found = True\n",
    "            else:\n",
    "                pdf = [float(l.strip(\"'\")) for l in line.lstrip('[').rstrip(']\\n').split(', ')]\n",
    "bins.append(bins[-1] * 2)"
   ]
  },
  {
   "cell_type": "code",
   "execution_count": null,
   "metadata": {},
   "outputs": [],
   "source": [
    "# Per-table reuse_factor of all batches\n",
    "table_config_path = \"{}/2021/fbgemm_t856_bs65536_configs.json\".format(DATASET_ROOT)\n",
    "with open(table_config_path) as f:\n",
    "    table_configs = json.load(f)[\"tables\"]\n",
    "fig, ax = plt.subplots()\n",
    "for t in table_configs:\n",
    "    ax.plot([2 ** idx for idx in range(len(bins))], [0] + np.cumsum([t[\"bin_{}\".format(idx)] for idx in range(len(bins[:-1]))]).tolist())\n",
    "    ax.set_xscale('log')"
   ]
  },
  {
   "cell_type": "code",
   "execution_count": null,
   "metadata": {},
   "outputs": [],
   "source": [
    "# Per-table per-batch reuse_factor\n",
    "rf_file = '{}/data/A100/kernel/embedding_lookup_fbgemm_dlrm_datasets_rf.csv'.format(PM_HOME)\n",
    "with open(rf_file) as f:\n",
    "    df = pd.read_csv(f).head(6000)\n",
    "\n",
    "stats = [defaultdict(list), defaultdict(list)]\n",
    "for idx, d in df.iterrows():\n",
    "    for t_idx, rfs, year in zip(\n",
    "        d['num_embeddings'].split('-'),\n",
    "        d['reuse_factors'].split('_'),\n",
    "        [d['dataset_path'].split('/')[-2]],\n",
    "    ):\n",
    "        stats[int(year) - 2021][int(t_idx)].append([float(x) for x in rfs.split('-')])\n",
    "stats[0] = sorted(stats[0].items(), key=(lambda x: -len(x[1])))\n",
    "stats[1] = sorted(stats[1].items(), key=(lambda x: -len(x[1])))"
   ]
  },
  {
   "cell_type": "code",
   "execution_count": null,
   "metadata": {},
   "outputs": [],
   "source": [
    "fig, axs =  plt.subplots(2, 5, figsize=(30, 11))\n",
    "for y, year in enumerate([2021, 2022]):\n",
    "    for i in range(5):\n",
    "        ax = axs[y][i]\n",
    "        tid = stats[y][i][0]\n",
    "        t = table_configs[tid]\n",
    "        ax.plot(\n",
    "            [2 ** idx for idx in range(len(bins))],\n",
    "            [0] + np.cumsum([t[\"bin_{}\".format(idx)] for idx in range(len(bins[:-1]))]).tolist(),\n",
    "            color='red'\n",
    "        )\n",
    "        for s in stats[y][i][1]:\n",
    "            ax.plot(\n",
    "                [2 ** idx for idx in range(len(bins))],\n",
    "                [0] + np.cumsum(s).tolist(),\n",
    "                color='gray', linewidth=0.2\n",
    "            )\n",
    "        ax.set_title(\"Table {}\".format(tid), fontsize=28)\n",
    "        ax.set_xscale('log')\n",
    "        ax.tick_params(axis='x', labelsize=20)\n",
    "        ax.tick_params(axis='y', labelsize=20)\n",
    "plt.tight_layout()\n",
    "plt.savefig('./batch_vs_overall_rf.pdf', bbox_inches='tight')\n",
    "plt.savefig('./batch_vs_overall_rf.png', bbox_inches='tight')"
   ]
  },
  {
   "cell_type": "code",
   "execution_count": null,
   "metadata": {},
   "outputs": [],
   "source": [
    "fig, axs =  plt.subplots(2, 1, figsize=(10, 5))\n",
    "half_width = 0.5\n",
    "bs = [0, 1, 1.00001, 2, 5, 10, 15, 20, 30, 40, 50, 80, 100, 1000]\n",
    "heavy_lookup = 20\n",
    "heavy_border = bs.index(heavy_lookup)\n",
    "for idx, year in enumerate([2021, 2022]):\n",
    "    ax = axs[idx]\n",
    "    with open(\"{}/{}/merged_simple_configs.json\".format(DATASET_ROOT, year), \"r\") as f:\n",
    "        configs = json.load(f)[\"tables\"]\n",
    "        num_tables = len(configs)\n",
    "    Ls = [float(x[\"pooling_factor\"]) for x in configs]\n",
    "    counts = [0] * (len(bs) - 1)\n",
    "    for L in Ls:\n",
    "        for idx in range(len(bs) - 1):\n",
    "            if bs[idx] <= L and L < bs[idx+1]:\n",
    "                counts[idx] += 1\n",
    "    heavy_counts = sum(counts[heavy_border:])\n",
    "    ax.bar(\n",
    "        list(range(len(bs) - 1)), counts,\n",
    "        width=1,\n",
    "        color=plt.get_cmap(\"tab20c\")(18),\n",
    "        edgecolor=\"black\"\n",
    "    )\n",
    "    ax.set_xticks([x - half_width for x in list(range(len(bs)))])\n",
    "    ax.set_xticklabels(bs)\n",
    "    ax.set_title(\"{} ({} tables)\".format(year, num_tables))\n",
    "    ax.axvline(\n",
    "        heavy_border - half_width,\n",
    "        linestyle=\"--\",\n",
    "        color=\"gray\"\n",
    "    )\n",
    "    ax.text(\n",
    "        heavy_border, max(counts) * 0.95,\n",
    "        \"|> {} ({:.2f}%) heavy tables\".format(heavy_counts, 100 * heavy_counts / num_tables)\n",
    "    )\n",
    "plt.tight_layout()\n",
    "plt.savefig('./dataset_histogram.pdf', bbox_inches='tight')\n",
    "plt.savefig('./dataset_histogram.png', bbox_inches='tight')"
   ]
  }
 ],
 "metadata": {
  "kernelspec": {
   "display_name": "zhongyi",
   "language": "python",
   "name": "python3"
  },
  "language_info": {
   "codemirror_mode": {
    "name": "ipython",
    "version": 3
   },
   "file_extension": ".py",
   "mimetype": "text/x-python",
   "name": "python",
   "nbconvert_exporter": "python",
   "pygments_lexer": "ipython3",
   "version": "3.9.0"
  },
  "orig_nbformat": 4,
  "vscode": {
   "interpreter": {
    "hash": "02372877dc9d511b3b18d0e90d7fc10386e618ab92d8e9830d393832c733bc2e"
   }
  }
 },
 "nbformat": 4,
 "nbformat_minor": 2
}
